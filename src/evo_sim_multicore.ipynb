{
 "cells": [
  {
   "cell_type": "code",
   "execution_count": 13,
   "metadata": {},
   "outputs": [],
   "source": [
    "using Distributed\n",
    "using DataFrames\n",
    "using DataFramesMeta\n",
    "using Lazy: @>\n",
    "\n",
    "@everywhere using Agents"
   ]
  },
  {
   "cell_type": "code",
   "execution_count": 28,
   "metadata": {},
   "outputs": [],
   "source": [
    "@everywhere include(\"Initialisation.jl\")\n",
    "\n",
    "@everywhere num_each_type = 100\n",
    "@everywhere num_steps = 200\n",
    "@everywhere replicates = 2000\n",
    "\n",
    "@everywhere multirun_model = evolutionary_model(;\n",
    "    num_sitters = num_each_type,\n",
    "    num_identifiers = num_each_type,\n",
    "    num_cheaters = num_each_type,\n",
    "    hatch_utility = 4,\n",
    "    egg_cost = 2,\n",
    "    identify_cost = 1,\n",
    "    eggs_laid = 1,\n",
    "    p_identify = 1,\n",
    "    p_mutation = 0.1\n",
    ")\n",
    "\n"
   ]
  },
  {
   "cell_type": "code",
   "execution_count": 29,
   "metadata": {},
   "outputs": [],
   "source": [
    "@everywhere sitters(a) = typeof(a) == Sitter\n",
    "@everywhere identifiers(a) = typeof(a) == Identifier\n",
    "@everywhere cheaters(a) = typeof(a) == Cheater\n",
    "@everywhere adata = [(sitters, count), (identifiers, count), (cheaters, count)]\n",
    "\n",
    "data, _ = run!(multirun_model, agent_step!, model_step!, num_steps; adata = adata, replicates = replicates, parallel=true);"
   ]
  },
  {
   "cell_type": "code",
   "execution_count": 31,
   "metadata": {},
   "outputs": [
    {
     "data": {
      "text/html": [
       "<table class=\"data-frame\"><thead><tr><th></th><th>sitter</th><th>identifiers</th><th>cheaters</th></tr><tr><th></th><th>Float64</th><th>Float64</th><th>Float64</th></tr></thead><tbody><p>1 rows × 3 columns</p><tr><th>1</th><td>0.344267</td><td>0.374377</td><td>0.281357</td></tr></tbody></table>"
      ],
      "text/latex": [
       "\\begin{tabular}{r|ccc}\n",
       "\t& sitter & identifiers & cheaters\\\\\n",
       "\t\\hline\n",
       "\t& Float64 & Float64 & Float64\\\\\n",
       "\t\\hline\n",
       "\t1 & 0.344267 & 0.374377 & 0.281357 \\\\\n",
       "\\end{tabular}\n"
      ],
      "text/plain": [
       "1×3 DataFrame\n",
       "│ Row │ sitter   │ identifiers │ cheaters │\n",
       "│     │ \u001b[90mFloat64\u001b[39m  │ \u001b[90mFloat64\u001b[39m     │ \u001b[90mFloat64\u001b[39m  │\n",
       "├─────┼──────────┼─────────────┼──────────┤\n",
       "│ 1   │ 0.344267 │ 0.374377    │ 0.281357 │"
      ]
     },
     "execution_count": 31,
     "metadata": {},
     "output_type": "execute_result"
    }
   ],
   "source": [
    "# How good on average is each strategy\n",
    "@> begin\n",
    "    data\n",
    "    @where(:step .== num_steps)\n",
    "    @combine(\n",
    "        sitter = mean(:count_sitters)/(num_each_type*3),\n",
    "        identifiers = mean(:count_identifiers)/(num_each_type*3),\n",
    "        cheaters = mean(:count_cheaters)/(num_each_type*3)\n",
    "    )\n",
    "end"
   ]
  }
 ],
 "metadata": {
  "kernelspec": {
   "display_name": "Julia 1.5.3",
   "language": "julia",
   "name": "julia-1.5"
  },
  "language_info": {
   "file_extension": ".jl",
   "mimetype": "application/julia",
   "name": "julia",
   "version": "1.5.3"
  }
 },
 "nbformat": 4,
 "nbformat_minor": 4
}
