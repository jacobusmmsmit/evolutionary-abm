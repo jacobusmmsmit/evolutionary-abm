{
 "cells": [
  {
   "cell_type": "code",
   "execution_count": 5,
   "metadata": {},
   "outputs": [],
   "source": [
    "using Distributed\n",
    "using DataFrames\n",
    "\n",
    "@everywhere using Agents\n",
    "\n",
    "@everywhere include(\"evolutionary_model.jl\")\n",
    "@everywhere include(\"helper_functions.jl\")"
   ]
  },
  {
   "cell_type": "code",
   "execution_count": 2,
   "metadata": {},
   "outputs": [],
   "source": [
    "@everywhere num_each_type = 10\n",
    "@everywhere num_steps = 20\n",
    "@everywhere replicates = 2\n",
    "\n",
    "@everywhere multirun_model = evolutionary_model(;\n",
    "    num_sitters = num_each_type,\n",
    "    num_identifiers = num_each_type,\n",
    "    num_cheaters = num_each_type,\n",
    "    hatch_utility = 4,\n",
    "    egg_cost = 2,\n",
    "    identify_cost = 1,\n",
    "    eggs_laid = 1,\n",
    "    p_identify = 1,\n",
    "    p_mutation = 0.1\n",
    ")\n",
    "\n"
   ]
  },
  {
   "cell_type": "code",
   "execution_count": 3,
   "metadata": {},
   "outputs": [
    {
     "output_type": "error",
     "ename": "Error",
     "evalue": "LoadError",
     "traceback": [
      "Error: LoadError",
      "at b.parseConnectInfo (c:\\Users\\jmmsm\\.vscode\\extensions\\ms-toolsai.jupyter-2021.2.603412351\\out\\client\\extension.js:49:484797)",
      "at b.connectToLocal (c:\\Users\\jmmsm\\.vscode\\extensions\\ms-toolsai.jupyter-2021.2.603412351\\out\\client\\extension.js:49:485400)",
      "at async b.connect (c:\\Users\\jmmsm\\.vscode\\extensions\\ms-toolsai.jupyter-2021.2.603412351\\out\\client\\extension.js:49:483277)",
      "at async b.startDebugSession (c:\\Users\\jmmsm\\.vscode\\extensions\\ms-toolsai.jupyter-2021.2.603412351\\out\\client\\extension.js:49:482424)",
      "at async f.submitCode (c:\\Users\\jmmsm\\.vscode\\extensions\\ms-toolsai.jupyter-2021.2.603412351\\out\\client\\extension.js:32:598348)",
      "at async f.handleRunByLine (c:\\Users\\jmmsm\\.vscode\\extensions\\ms-toolsai.jupyter-2021.2.603412351\\out\\client\\extension.js:9:328492)"
     ]
    }
   ],
   "source": [
    "@everywhere sitters(a) = typeof(a) == Sitter\n",
    "@everywhere identifiers(a) = typeof(a) == Identifier\n",
    "@everywhere cheaters(a) = typeof(a) == Cheater\n",
    "@everywhere adata = [(sitters, count), (identifiers, count), (cheaters, count)]\n",
    "\n",
    "data, _ = run!(multirun_model, agent_step!, model_step!, num_steps; adata = adata, replicates = replicates, parallel=true);"
   ]
  },
  {
   "cell_type": "code",
   "execution_count": 4,
   "metadata": {},
   "outputs": [
    {
     "data": {
      "text/html": [
       "<table class=\"data-frame\"><thead><tr><th></th><th>sitter</th><th>identifiers</th><th>cheaters</th></tr><tr><th></th><th>Float64</th><th>Float64</th><th>Float64</th></tr></thead><tbody><p>1 rows × 3 columns</p><tr><th>1</th><td>0.0</td><td>0.0</td><td>1.0</td></tr></tbody></table>"
      ],
      "text/latex": [
       "\\begin{tabular}{r|ccc}\n",
       "\t& sitter & identifiers & cheaters\\\\\n",
       "\t\\hline\n",
       "\t& Float64 & Float64 & Float64\\\\\n",
       "\t\\hline\n",
       "\t1 & 0.0 & 0.0 & 1.0 \\\\\n",
       "\\end{tabular}\n"
      ],
      "text/plain": [
       "\u001b[1m1×3 DataFrame\u001b[0m\n",
       "\u001b[1m Row \u001b[0m│\u001b[1m sitter  \u001b[0m\u001b[1m identifiers \u001b[0m\u001b[1m cheaters \u001b[0m\n",
       "\u001b[1m     \u001b[0m│\u001b[90m Float64 \u001b[0m\u001b[90m Float64     \u001b[0m\u001b[90m Float64  \u001b[0m\n",
       "─────┼────────────────────────────────\n",
       "   1 │     0.0          0.0       1.0"
      ]
     },
     "execution_count": 4,
     "metadata": {},
     "output_type": "execute_result"
    }
   ],
   "source": [
    "# How good on average is each strategy\n",
    "average_n_of_type(x) = mean(x)/(num_each_type * 3)\n",
    "\n",
    "data |>\n",
    "  df -> filter(row -> row.step == num_steps, df) |>\n",
    "  df -> combine(df,\n",
    "          :count_sitters =>  average_n_of_type  => :sitter ,\n",
    "          :count_identifiers =>  average_n_of_type => :identifiers ,\n",
    "          :count_cheaters =>  average_n_of_type => :cheaters ,\n",
    "          )"
   ]
  }
 ],
 "metadata": {
  "kernelspec": {
   "display_name": "Julia 1.5.3",
   "language": "julia",
   "name": "julia-1.5"
  },
  "language_info": {
   "file_extension": ".jl",
   "mimetype": "application/julia",
   "name": "julia",
   "version": "1.5.3"
  }
 },
 "nbformat": 4,
 "nbformat_minor": 4
}